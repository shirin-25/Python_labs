{
 "cells": [
  {
   "cell_type": "code",
   "execution_count": null,
   "metadata": {},
   "outputs": [],
   "source": [
    "# import some librairies\n",
    "import matplotlib.pyplot as plt\n",
    "import pandas as pd\n",
    "import numpy as np\n",
    "import seaborn as sns\n",
    "from sklearn.model_selection import train_test_split"
   ]
  },
  {
   "cell_type": "code",
   "execution_count": null,
   "metadata": {},
   "outputs": [],
   "source": [
    "df = pd.read_csv('data/diabetes_prediction_dataset.csv')\n",
    "df.head()"
   ]
  },
  {
   "attachments": {},
   "cell_type": "markdown",
   "metadata": {},
   "source": [
    "## Data Analysis"
   ]
  },
  {
   "cell_type": "markdown",
   "source": [
    "Duplicate rows do not provide any useful information to the model, so we drop them."
   ],
   "metadata": {
    "collapsed": false
   }
  },
  {
   "cell_type": "code",
   "execution_count": null,
   "outputs": [],
   "source": [
    "df.duplicated().sum()\n",
    "print(f\"Number of dropped rows: {df.duplicated().sum()}\")\n",
    "df.drop_duplicates(inplace=True)"
   ],
   "metadata": {
    "collapsed": false
   }
  },
  {
   "cell_type": "markdown",
   "source": [
    "There is an extra category in `gender` called 'Other'. It is not frequent in the data, its instances are never from diabetic cases and their characteristics (BMI, blood glucose, etc.) don't seem to differ from the rest of the data, apart from a slightly younger average age. We will drop these instances for the reasons we just stated."
   ],
   "metadata": {
    "collapsed": false
   }
  },
  {
   "cell_type": "code",
   "execution_count": null,
   "outputs": [],
   "source": [
    "df[df[\"gender\"] == \"Other\"].describe()"
   ],
   "metadata": {
    "collapsed": false
   }
  },
  {
   "cell_type": "code",
   "execution_count": null,
   "outputs": [],
   "source": [
    "df[df['gender'] != 'Other'].describe()"
   ],
   "metadata": {
    "collapsed": false
   }
  },
  {
   "cell_type": "markdown",
   "source": [
    "OPINION:\n",
    "Females are more recurrent than males in the dataset, the emodel will probably have a harder time correctly diagnosing male patients, since their number of samples are lower. I have to verify this"
   ],
   "metadata": {
    "collapsed": false
   }
  },
  {
   "cell_type": "code",
   "execution_count": null,
   "outputs": [],
   "source": [
    "df = df[df['gender'] != 'Other']\n",
    "print(df['gender'].value_counts())\n",
    "\n",
    "plt.title('Gender Count')\n",
    "sns.histplot(data=df, x='gender', hue='diabetes');"
   ],
   "metadata": {
    "collapsed": false
   }
  },
  {
   "cell_type": "code",
   "execution_count": null,
   "outputs": [],
   "source": [
    "df.info()"
   ],
   "metadata": {
    "collapsed": false
   }
  },
  {
   "cell_type": "code",
   "execution_count": null,
   "outputs": [],
   "source": [
    "print(f'There are {df.isnull().sum().sum()} samples containing missing values')"
   ],
   "metadata": {
    "collapsed": false
   }
  },
  {
   "cell_type": "markdown",
   "source": [
    "## Data Visualisation"
   ],
   "metadata": {
    "collapsed": false
   }
  },
  {
   "cell_type": "markdown",
   "source": [
    "### Univariate Analysis"
   ],
   "metadata": {
    "collapsed": false
   }
  },
  {
   "cell_type": "code",
   "execution_count": null,
   "outputs": [],
   "source": [
    "vc = df['diabetes'].value_counts()\n",
    "print(f'Diabetic samples: {vc[1]}')\n",
    "print(f'Non-diabetic samples: {vc[0]}')\n",
    "\n",
    "plt.title('Diabetes Count')\n",
    "sns.countplot(data=df, x='diabetes');"
   ],
   "metadata": {
    "collapsed": false
   }
  },
  {
   "cell_type": "code",
   "execution_count": null,
   "metadata": {},
   "outputs": [],
   "source": [
    "vc = df['hypertension'].value_counts()\n",
    "print(f'Hypertension samples: {vc[1]}')\n",
    "print(f'Non-hypertension samples: {vc[0]}')\n",
    "\n",
    "plt.title('Hypertension count')\n",
    "sns.countplot(data=df, x='hypertension');"
   ]
  },
  {
   "cell_type": "code",
   "execution_count": null,
   "metadata": {},
   "outputs": [],
   "source": [
    "vc = df['heart_disease'].value_counts()\n",
    "print(f'Heart disease samples: {vc[1]}')\n",
    "print(f'Non-heart disease samples: {vc[0]}')\n",
    "\n",
    "plt.title('heart_disease Count')\n",
    "sns.countplot(data=df, x='heart_disease');"
   ]
  },
  {
   "attachments": {},
   "cell_type": "markdown",
   "metadata": {},
   "source": [
    "### BMI (Body Mass Index)"
   ]
  },
  {
   "cell_type": "code",
   "execution_count": null,
   "metadata": {},
   "outputs": [],
   "source": [
    "print(f\"Description of the BMI column: \\n{df['bmi'].describe()}\")\n",
    "\n",
    "plt.figure(figsize=(8, 6))\n",
    "sns.histplot(df['bmi'], kde=True, bins=50)\n",
    "plt.xlim(10, 60)\n",
    "plt.title('Distribution de BMI')\n",
    "plt.show()"
   ]
  },
  {
   "cell_type": "markdown",
   "source": [
    "The value 27.32 occurs an unnormal amount of times in the data."
   ],
   "metadata": {
    "collapsed": false
   }
  },
  {
   "cell_type": "code",
   "execution_count": null,
   "metadata": {},
   "outputs": [],
   "source": [
    "# Percentage of the values\n",
    "df.bmi.value_counts(normalize=True).head()*100"
   ]
  },
  {
   "cell_type": "markdown",
   "source": [
    "This value is, most probably, the default or mean value for the standard medical category \"Overweight\", which is people with a BMI in the range [25, 30)*. We can see below that the mean value of overweight people, excluding the value 27.32, is 27.39.\n",
    "\n",
    "*Source: [cancer.org](https://www.cancer.org/cancer/risk-prevention/diet-physical-activity/body-weight-and-cancer-risk/adult-bmi.html)"
   ],
   "metadata": {
    "collapsed": false
   }
  },
  {
   "cell_type": "code",
   "execution_count": null,
   "outputs": [],
   "source": [
    "df[(df['bmi'] >= 25) &\n",
    "   (df['bmi'] < 30) &\n",
    "   (df['bmi'] != 27.32)]['bmi'].describe()"
   ],
   "metadata": {
    "collapsed": false
   }
  },
  {
   "cell_type": "markdown",
   "source": [
    "We have decided to leave this value as it is, because the BMI variable is a continuous one. This means that transforming it into a categorical variable with value ranges would make us lose important information about the patient without providing any benefit to prediction quality."
   ],
   "metadata": {
    "collapsed": false
   }
  },
  {
   "attachments": {},
   "cell_type": "markdown",
   "metadata": {},
   "source": [
    "### Age"
   ]
  },
  {
   "cell_type": "markdown",
   "source": [
    "Age ranges are mostly balanced in our data, except for the age 80, which is over-represented."
   ],
   "metadata": {
    "collapsed": false
   }
  },
  {
   "cell_type": "code",
   "execution_count": null,
   "metadata": {},
   "outputs": [],
   "source": [
    "sns.histplot(df['age'], kde=True, bins=30)\n",
    "plt.title('Age distribution')\n",
    "plt.show()"
   ]
  },
  {
   "cell_type": "code",
   "execution_count": null,
   "outputs": [],
   "source": [
    "df['age'].value_counts(normalize=True).head()*100"
   ],
   "metadata": {
    "collapsed": false
   }
  },
  {
   "cell_type": "markdown",
   "source": [
    "Our data correctly reflects the prevalence of diabetes in older adults, giving adults over 80 years old an occurrence rate of around 20%. [This source](https://www.kff.org/other/state-indicator/adults-with-diabetes-by-age/?currentTimeframe=0&selectedDistributions=ages-75&selectedRows=%7B%22wrapups%22:%7B%22united-states%22:%7B%7D%7D%7D&sortModel=%7B%22colId%22:%22Location%22,%22sort%22:%22asc%22%7D) confirms that this percentage is correct."
   ],
   "metadata": {
    "collapsed": false
   }
  },
  {
   "cell_type": "code",
   "execution_count": null,
   "outputs": [],
   "source": [
    "print(f\"Diabetics under 80 y/o: {round(df[df['age'] < 80]['diabetes'].mean()*100, 2)}%\")\n",
    "print(f\"Diabetics at 80 y/o: {round(df[df['age'] >= 80]['diabetes'].mean()*100, 2)}%\")"
   ],
   "metadata": {
    "collapsed": false
   }
  },
  {
   "attachments": {},
   "cell_type": "markdown",
   "metadata": {},
   "source": [
    "smoking history"
   ]
  },
  {
   "cell_type": "code",
   "execution_count": null,
   "metadata": {},
   "outputs": [],
   "source": [
    "print(df['smoking_history'].value_counts())\n",
    "\n",
    "plt.figure(figsize=(10, 6))\n",
    "sns.countplot(x='smoking_history', data=df, order = df['smoking_history'].value_counts().index)\n",
    "plt.title('Frequency of categories in smoking history')\n",
    "plt.show()"
   ]
  },
  {
   "attachments": {},
   "cell_type": "markdown",
   "metadata": {},
   "source": [
    "blood glucose level"
   ]
  },
  {
   "cell_type": "code",
   "execution_count": null,
   "metadata": {},
   "outputs": [],
   "source": [
    "# print(df['blood_glucose_level'].value_counts())\n",
    "print(f\"Number of unique values: {df['blood_glucose_level'].nunique()}\")\n",
    "print(f\"Total number of values: {df['blood_glucose_level'].count()}\")\n",
    "\n",
    "plt.title('blood_glucose_level Count')\n",
    "sns.countplot(data=df, x='blood_glucose_level')"
   ]
  },
  {
   "attachments": {},
   "cell_type": "markdown",
   "metadata": {},
   "source": [
    "### Multi-variate Analysis"
   ]
  },
  {
   "cell_type": "code",
   "execution_count": null,
   "metadata": {},
   "outputs": [],
   "source": [
    "numeric_cols = df.select_dtypes(include=[np.number]).columns  # \n",
    "correlation_matrix = df[numeric_cols].corr()\n",
    "\n",
    "plt.figure(figsize=(10, 8))\n",
    "sns.heatmap(correlation_matrix, annot=True, cmap='coolwarm')\n",
    "plt.title('correlation matrix')\n",
    "plt.show()\n"
   ]
  },
  {
   "attachments": {},
   "cell_type": "markdown",
   "metadata": {},
   "source": [
    "age"
   ]
  },
  {
   "cell_type": "code",
   "execution_count": null,
   "metadata": {},
   "outputs": [],
   "source": [
    "sns.displot(kind='kde', data=df, x='age', hue='diabetes', fill=True)"
   ]
  },
  {
   "cell_type": "code",
   "execution_count": null,
   "metadata": {},
   "outputs": [],
   "source": [
    "ax = sns.catplot(kind='box', data=df, x='diabetes', y='age',hue='diabetes')\n",
    "ax.set_xticklabels(['No Diabetes', 'Diabetes'])"
   ]
  },
  {
   "cell_type": "code",
   "execution_count": null,
   "metadata": {},
   "outputs": [],
   "source": [
    "plt.figure(figsize=(10, 6))\n",
    "sns.scatterplot(x='age', y='bmi', hue='diabetes', palette={0: 'blue', 1: 'red'}, alpha=1.0, data=df)\n",
    "plt.title('Relationship between age, BMI and diabetes')\n",
    "plt.show()"
   ]
  },
  {
   "attachments": {},
   "cell_type": "markdown",
   "metadata": {},
   "source": [
    "Diabetes and Gender column"
   ]
  },
  {
   "cell_type": "code",
   "execution_count": null,
   "metadata": {},
   "outputs": [],
   "source": [
    "# Count plot of gender vs diabetes\n",
    "sns.countplot(x='gender', hue='diabetes', data=df)\n",
    "plt.title('Gender vs Diabetes')\n",
    "plt.show()"
   ]
  },
  {
   "cell_type": "code",
   "execution_count": null,
   "metadata": {},
   "outputs": [],
   "source": [
    "import matplotlib.pyplot as plt\n",
    "\n",
    "# Filter diabetic individuals\n",
    "diabetic_individuals = df[df['diabetes'] == 1]\n",
    "\n",
    "# Calculate the number of diabetics by gender\n",
    "diabetic_counts = diabetic_individuals['gender'].value_counts()\n",
    "\n",
    "# Calculate the percentages\n",
    "diabetic_percentages = (diabetic_counts / len(diabetic_individuals)) * 100\n",
    "\n",
    "# Create the bar plot\n",
    "colors = ['pink' if gender == 'Female' else 'blue' for gender in diabetic_percentages.index]\n",
    "plt.bar(diabetic_percentages.index, diabetic_percentages, color=colors)\n",
    "\n",
    "# Add bar labels\n",
    "for i, val in enumerate(diabetic_percentages):\n",
    "    plt.text(i, val, f\"{val:.2f}%\", ha='center', va='bottom')\n",
    "\n",
    "# Add labels and title\n",
    "plt.xlabel('Gender')\n",
    "plt.ylabel('Percentage of Diabetics')\n",
    "plt.title('Percentage of Diabetics by Gender')\n",
    "\n",
    "# Display the plot\n",
    "plt.show()"
   ]
  },
  {
   "cell_type": "code",
   "execution_count": null,
   "metadata": {},
   "outputs": [],
   "source": [
    "female_count = len(df[df['gender'] == 'Female'])\n",
    "male_count = len(df[df['gender'] == 'Male'])\n",
    "percentage_more_female = (female_count - male_count) / len(df) * 100\n",
    "\n",
    "print(f\"Number of females: {female_count}\")\n",
    "print(f\"Number of males: {male_count}\")\n",
    "print(f\"There are {percentage_more_female:.2f}% more females than males.\")\n",
    "\n",
    "\n",
    "temp_df = pd.crosstab(df['gender'], df['diabetes'], normalize='columns')*100\n",
    "sns.heatmap(temp_df, annot=True, cmap='summer')\n",
    "\n"
   ]
  },
  {
   "attachments": {},
   "cell_type": "markdown",
   "metadata": {},
   "source": [
    "HbA1c levels"
   ]
  },
  {
   "cell_type": "code",
   "execution_count": null,
   "metadata": {},
   "outputs": [],
   "source": [
    "ax = sns.catplot(data=df, x='diabetes', y='HbA1c_level', kind='box')\n",
    "ax.set(title='Diabetes vs HbA1c Level')\n",
    "ax.set_xticklabels(['No Diabetes', 'Diabetes'])"
   ]
  },
  {
   "cell_type": "code",
   "execution_count": null,
   "metadata": {},
   "outputs": [],
   "source": [
    "# Create a new Boolean variable\n",
    "df['high_blood_glucose'] = df['blood_glucose_level'] > 220\n",
    "\n",
    "# Calculate the correlation coefficient\n",
    "correlation = df['diabetes'].corr(df['high_blood_glucose'])\n",
    "print('Correlation: ', correlation)\n"
   ]
  },
  {
   "cell_type": "code",
   "execution_count": null,
   "metadata": {},
   "outputs": [],
   "source": [
    "# Separating the data based on diabetes\n",
    "diabetes_positive = df[df['diabetes'] == 1]\n",
    "diabetes_negative = df[df['diabetes'] == 0]\n",
    "\n",
    "# Creating the scatter plot\n",
    "plt.scatter(diabetes_positive['HbA1c_level'], diabetes_positive['blood_glucose_level'], color='red', label='Diabetes')\n",
    "plt.scatter(diabetes_negative['HbA1c_level'], diabetes_negative['blood_glucose_level'], color='blue', label='No Diabetes')\n",
    "\n",
    "# Adding labels and title\n",
    "plt.xlabel('HbA1c Level')\n",
    "plt.ylabel('Blood Glucose Level')\n",
    "plt.title('Correlation between HbA1c Level, Blood Glucose Level, and Diabetes')\n",
    "\n",
    "# Adding legend\n",
    "plt.legend()\n",
    "\n",
    "# Displaying the plot\n",
    "plt.show()"
   ]
  },
  {
   "cell_type": "code",
   "execution_count": null,
   "metadata": {},
   "outputs": [],
   "source": [
    "# Filter the data based on the conditions\n",
    "filtered_data = df[(df['HbA1c_level'] > 7) & (df['blood_glucose_level'] > 200)]\n",
    "\n",
    "# Extract the values of HbA1c_level and blood_glucose_level\n",
    "hbA1c_values = filtered_data['HbA1c_level']\n",
    "blood_glucose_values = filtered_data['blood_glucose_level']\n",
    "diabetes_presence = filtered_data['diabetes']\n",
    "\n",
    "# Calculate the correlation\n",
    "correlation = np.corrcoef(hbA1c_values, blood_glucose_values)[0, 1]\n",
    "\n",
    "# Display the results\n",
    "print(\"Correlation between HbA1c Level and Blood Glucose Level for individuals with HbA1c > 7 and blood glucose > 200:\")\n",
    "print(f\"Correlation coefficient: {correlation:.2f}\")\n",
    "print(f\"Presence of diabetes count: {diabetes_presence.sum()}\")\n"
   ]
  },
  {
   "cell_type": "code",
   "execution_count": null,
   "metadata": {},
   "outputs": [],
   "source": [
    "# Filter out diabetics with blood glucose > 200\n",
    "diabetes_high_glucose = df[(df['diabetes'] == 1) & (df['blood_glucose_level'] > 200)]\n",
    "percentage_diabetes_high_glucose = (len(diabetes_high_glucose) / len(df[df['diabetes'] == 1])) * 100\n",
    "print(f\"Percentage of diabetics with blood glucose > 200: {percentage_diabetes_high_glucose:.2f}%\")\n",
    "\n",
    "# Filter diabetic individuals with HbA1c > 7\n",
    "diabetes_high_HbA1c = df[(df['diabetes'] == 1) & (df['HbA1c_level'] > 7)]\n",
    "percentage_diabetes_high_HbA1c = (len(diabetes_high_HbA1c) / len(df[df['diabetes'] == 1])) * 100\n",
    "print(f\"Percentage of diabetics with HbA1c > 7: {percentage_diabetes_high_HbA1c:.2f}%\")\n",
    "\n",
    "# with and condition\n",
    "diabetes_percentage = (diabetes_presence.mean()) * 100\n",
    "print(\"Percentage of diabetes among individuals with HbA1c > 7 and blood glucose > 200:\")\n",
    "print(f\"Percentage of individuals with HbA1c > 7 and blood glucose > 200: {diabetes_percentage:.2f}%\")\n",
    "\n",
    "\n",
    "# Calculate the percentages\n",
    "percentage_diabetes_high_glucose = (len(diabetes_high_glucose) / len(df[df['diabetes'] == 1])) * 100\n",
    "percentage_diabetes_high_HbA1c = (len(diabetes_high_HbA1c) / len(df[df['diabetes'] == 1])) * 100\n",
    "\n",
    "# Create the bar plot\n",
    "categories = ['Blood Glucose > 200', 'HbA1c > 7']\n",
    "percentages = [percentage_diabetes_high_glucose, percentage_diabetes_high_HbA1c]\n",
    "\n",
    "plt.bar(categories, percentages)\n",
    "\n",
    "# Add bar labels\n",
    "for i, val in enumerate(percentages):\n",
    "    plt.text(i, val, f\"{val:.2f}%\", ha='center', va='bottom')\n",
    "\n",
    "# Add labels and title\n",
    "plt.xlabel('Categories')\n",
    "plt.ylabel('Percentage')\n",
    "plt.title('Percentage of Diabetics with High Blood Glucose or HbA1c')\n",
    "\n",
    "# Display the plot\n",
    "plt.show()"
   ]
  },
  {
   "attachments": {},
   "cell_type": "markdown",
   "metadata": {},
   "source": [
    "Smoking history"
   ]
  },
  {
   "cell_type": "code",
   "execution_count": null,
   "metadata": {},
   "outputs": [],
   "source": [
    "plt.figure(figsize=(10, 6))\n",
    "sns.violinplot(x='diabetes', y='blood_glucose_level', data=df)\n",
    "plt.title('Distribution of blood glucose levels in people with and without diabetes')\n",
    "plt.show()"
   ]
  },
  {
   "cell_type": "code",
   "execution_count": null,
   "metadata": {},
   "outputs": [],
   "source": [
    "plt.figure(figsize=(10, 6))\n",
    "sns.boxplot(x='smoking_history', y='age', data=df, order = df['smoking_history'].value_counts().index)\n",
    "plt.title('Age distribution among different categories of smoking history')\n",
    "plt.show()"
   ]
  },
  {
   "attachments": {},
   "cell_type": "markdown",
   "metadata": {},
   "source": [
    "BMI and Diabetes"
   ]
  },
  {
   "cell_type": "code",
   "execution_count": null,
   "metadata": {},
   "outputs": [],
   "source": [
    "plt.figure(figsize=(10, 6))\n",
    "sns.scatterplot(x='age', y='bmi', hue='diabetes', palette={0: 'blue', 1: 'red'}, data=df)\n",
    "plt.title('Relationship between age, BMI and diabetes')\n",
    "plt.show()"
   ]
  },
  {
   "attachments": {},
   "cell_type": "markdown",
   "metadata": {},
   "source": [
    "# Train part"
   ]
  },
  {
   "attachments": {},
   "cell_type": "markdown",
   "metadata": {},
   "source": [
    "## Encoding"
   ]
  },
  {
   "cell_type": "code",
   "execution_count": null,
   "metadata": {},
   "outputs": [],
   "source": [
    "df_copy = df.copy()\n",
    "df_copy.info()"
   ]
  },
  {
   "cell_type": "code",
   "execution_count": null,
   "metadata": {},
   "outputs": [],
   "source": [
    "# Show NaN values\n",
    "print(f\"Number of NaN values in the dataset: {df_copy.isna().sum().sum()}\")"
   ]
  },
  {
   "cell_type": "code",
   "execution_count": null,
   "metadata": {},
   "outputs": [],
   "source": [
    "from sklearn.preprocessing import LabelEncoder\n",
    "\n",
    "le = LabelEncoder()\n",
    "\n",
    "df_copy['gender'] = le.fit_transform(df_copy['gender'])\n",
    "\n",
    "df_copy = pd.get_dummies(df_copy, columns=['smoking_history'], drop_first=True)\n",
    "\n",
    "df_copy['high_blood_glucose'] = df_copy['high_blood_glucose'].astype(int)"
   ]
  },
  {
   "cell_type": "code",
   "execution_count": null,
   "metadata": {},
   "outputs": [],
   "source": [
    "# Show NaN values\n",
    "print(f\"Number of NaN values in the dataset: {df_copy.isna().sum().sum()}\")"
   ]
  },
  {
   "cell_type": "code",
   "execution_count": null,
   "metadata": {},
   "outputs": [],
   "source": [
    "X = df_copy.drop('diabetes', axis=1)\n",
    "y = df_copy['diabetes']"
   ]
  },
  {
   "cell_type": "code",
   "execution_count": null,
   "metadata": {},
   "outputs": [],
   "source": [
    "from sklearn.model_selection import GridSearchCV, cross_validate\n",
    "from sklearn.linear_model import LogisticRegression\n",
    "from sklearn.ensemble import RandomForestClassifier, GradientBoostingClassifier, AdaBoostClassifier\n",
    "from sklearn.svm import SVC\n",
    "from sklearn.pipeline import Pipeline\n",
    "from sklearn.neighbors import KNeighborsClassifier\n",
    "from sklearn.metrics import make_scorer, accuracy_score, precision_score, recall_score, f1_score\n",
    "from sklearn.preprocessing import StandardScaler"
   ]
  },
  {
   "cell_type": "code",
   "execution_count": null,
   "outputs": [],
   "source": [
    "# Split the data\n",
    "X_train, X_test, y_train, y_test = train_test_split(X, y, test_size=0.2, random_state=42)"
   ],
   "metadata": {
    "collapsed": false
   }
  },
  {
   "cell_type": "code",
   "execution_count": null,
   "outputs": [],
   "source": [
    "pipe = Pipeline([('classifier', RandomForestClassifier())])\n",
    "\n",
    "\n",
    "# Create dictionary with candidate learning algorithms and their hyperparameters\n",
    "search_space = [\n",
    "                {\"classifier\": [LogisticRegression()],\n",
    "                 \"classifier__penalty\": ['l2'],\n",
    "                 \"classifier__C\": np.logspace(0, 4, 10)\n",
    "                 },\n",
    "                {\"classifier\": [RandomForestClassifier()],\n",
    "                 \"classifier__n_estimators\": [50, 100, 150],\n",
    "                 \"classifier__max_depth\":[5,8,15,25,None],\n",
    "                 \"classifier__min_samples_leaf\":[1,2,5,10,15],\n",
    "                 \"classifier__max_leaf_nodes\": [2, 5,10]},\n",
    "                {\"classifier\": [SVC()],\n",
    "                 \"classifier__kernel\": ['linear', 'rbf'],\n",
    "                 \"classifier__C\": [1, 10, 100]},\n",
    "                {\"classifier\": [GradientBoostingClassifier()],\n",
    "                 \"classifier__n_estimators\": [50, 100, 150],\n",
    "                 \"classifier__learning_rate\": [0.001, 0.01, 0.1],\n",
    "                 \"classifier__subsample\": [0.5, 0.7, 1.0],\n",
    "                 \"classifier__max_depth\": [3, 7, 9]},\n",
    "                {\"classifier\": [KNeighborsClassifier()],\n",
    "                 \"classifier__n_neighbors\": [3, 5, 11],\n",
    "                 \"classifier__weights\": [\"uniform\", \"distance\"],\n",
    "                 \"classifier__metric\": [\"euclidean\", \"manhattan\"]},\n",
    "                {\"classifier\": [AdaBoostClassifier()],\n",
    "                 \"classifier__n_estimators\": [50, 100, 150],\n",
    "                 \"classifier__learning_rate\": [0.001, 0.01, 0.1]}\n",
    "                ]\n",
    "\n",
    "scoring = {'accuracy': make_scorer(accuracy_score),\n",
    "           'precision': make_scorer(precision_score, average='macro'),\n",
    "           'recall': make_scorer(recall_score, average='macro'),\n",
    "           'f1': make_scorer(f1_score, average='macro')}\n",
    "\n",
    "# Loop over the different scores\n",
    "for score_name, score_func in scoring.items():\n",
    "    gridsearch = GridSearchCV(pipe, search_space, cv=5, scoring=score_func, n_jobs=-1)\n",
    "\n",
    "    best_model = gridsearch.fit(X_train, y_train)\n",
    "\n",
    "    print(f\"Best model for {score_name}: {best_model.best_estimator_}\")\n",
    "    print(f\"Best parameters for {score_name}: {best_model.best_params_}\")\n",
    "    print(f\"Best score for {score_name}: {best_model.best_score_}\\n\")\n",
    "\n"
   ],
   "metadata": {
    "collapsed": false
   }
  },
  {
   "cell_type": "code",
   "execution_count": 15,
   "metadata": {
    "ExecuteTime": {
     "end_time": "2023-06-17T11:11:59.726804Z",
     "start_time": "2023-06-17T11:11:52.488423400Z"
    }
   },
   "outputs": [],
   "source": [
    "params = {'learning_rate': 0.1, 'max_depth': 7, 'n_estimators': 50, 'subsample': 1.0}\n",
    "\n",
    "best_model_acc = GradientBoostingClassifier(**params)\n",
    "\n",
    "best_model_acc.fit(X_train, y_train)\n",
    "\n",
    "y_pred_acc = best_model_acc.predict(X_test)"
   ]
  },
  {
   "cell_type": "code",
   "execution_count": 16,
   "outputs": [
    {
     "name": "stdout",
     "output_type": "stream",
     "text": [
      "Accuracy: 0.9694164152709872\n",
      "Precision: 0.9834926151172894\n",
      "Recall: 0.6654908877131099\n",
      "F1 Score: 0.79382889200561\n"
     ]
    }
   ],
   "source": [
    "# Calculate metrics\n",
    "accuracy = accuracy_score(y_test, y_pred_acc)\n",
    "precision = precision_score(y_test, y_pred_acc)\n",
    "recall = recall_score(y_test, y_pred_acc)\n",
    "f1 = f1_score(y_test, y_pred_acc)\n",
    "\n",
    "# Print metrics\n",
    "print(f\"Accuracy: {accuracy}\")\n",
    "print(f\"Precision: {precision}\")\n",
    "print(f\"Recall: {recall}\")\n",
    "print(f\"F1 Score: {f1}\")"
   ],
   "metadata": {
    "collapsed": false,
    "ExecuteTime": {
     "end_time": "2023-06-17T11:11:59.751969100Z",
     "start_time": "2023-06-17T11:11:59.729810500Z"
    }
   }
  },
  {
   "cell_type": "code",
   "execution_count": null,
   "metadata": {},
   "outputs": [],
   "source": [
    "from sklearn.model_selection import validation_curve\n",
    "\n",
    "param_range = np.logspace(-6, -1, 5)\n",
    "train_scores, test_scores = validation_curve(\n",
    "    GradientBoostingClassifier(), X, y, param_name=\"learning_rate\", param_range=param_range,\n",
    "    scoring=\"accuracy\", n_jobs=1)"
   ]
  },
  {
   "cell_type": "code",
   "execution_count": null,
   "metadata": {},
   "outputs": [],
   "source": [
    "from sklearn.metrics import confusion_matrix\n",
    "import matplotlib.pyplot as plt\n",
    "import seaborn as sns\n",
    "\n",
    "# Get the confusion matrix\n",
    "cm  = confusion_matrix(y_test, y_pred)\n",
    "    \n",
    "# Visualize it\n",
    "plt.figure(figsize=(10,7))\n",
    "sns.heatmap(cm, annot=True, fmt=\"d\")\n",
    "plt.title('Confusion matrix')\n",
    "plt.ylabel('Actual label')\n",
    "plt.xlabel('Predicted label')\n",
    "plt.show()"
   ]
  },
  {
   "cell_type": "code",
   "execution_count": null,
   "metadata": {},
   "outputs": [],
   "source": [
    "# Get the confusion matrix\n",
    "cm  = confusion_matrix(y_test, y_pred, normalize='true')\n",
    "    \n",
    "# Visualize it\n",
    "plt.figure(figsize=(10,7))\n",
    "sns.heatmap(cm, annot=True, fmt=\".3f\", cmap='Blues') \n",
    "plt.title('Confusion matrix')\n",
    "plt.ylabel('Actual label')\n",
    "plt.xlabel('Predicted label')\n",
    "plt.show()"
   ]
  },
  {
   "cell_type": "code",
   "execution_count": null,
   "metadata": {},
   "outputs": [],
   "source": [
    "from sklearn.metrics import roc_curve, auc\n",
    "\n",
    "y_score = best_model.predict_proba(X_test)[:,1]\n",
    "\n",
    "# Compute ROC curve and ROC area\n",
    "fpr, tpr, _ = roc_curve(y_test, y_score)\n",
    "roc_auc = auc(fpr, tpr)\n",
    "\n",
    "plt.figure()\n",
    "lw = 2\n",
    "plt.plot(fpr, tpr, color='darkorange',\n",
    "         lw=lw, label='ROC curve (area = %0.2f)' % roc_auc)\n",
    "plt.plot([0, 1], [0, 1], color='navy', lw=lw, linestyle='--')\n",
    "plt.xlim([0.0, 1.0])\n",
    "plt.ylim([0.0, 1.05])\n",
    "plt.xlabel('False Positive Rate')\n",
    "plt.ylabel('True Positive Rate')\n",
    "plt.title('Receiver Operating Characteristic')\n",
    "plt.legend(loc=\"lower right\")\n",
    "plt.show()"
   ]
  },
  {
   "cell_type": "code",
   "execution_count": 17,
   "metadata": {
    "ExecuteTime": {
     "end_time": "2023-06-17T11:12:18.607018100Z",
     "start_time": "2023-06-17T11:12:12.945818900Z"
    }
   },
   "outputs": [
    {
     "name": "stdout",
     "output_type": "stream",
     "text": [
      "Confusion Matrix: \n",
      " [[15497  2028]\n",
      " [  159  1542]]\n",
      "Classification Report: \n",
      "               precision    recall  f1-score   support\n",
      "\n",
      "           0       0.99      0.88      0.93     17525\n",
      "           1       0.43      0.91      0.59      1701\n",
      "\n",
      "    accuracy                           0.89     19226\n",
      "   macro avg       0.71      0.90      0.76     19226\n",
      "weighted avg       0.94      0.89      0.90     19226\n",
      "\n"
     ]
    }
   ],
   "source": [
    "from xgboost import XGBClassifier\n",
    "from sklearn.model_selection import train_test_split\n",
    "from sklearn.metrics import confusion_matrix, classification_report\n",
    "from sklearn.preprocessing import StandardScaler\n",
    "from imblearn.over_sampling import SMOTE\n",
    "\n",
    "# Split the data\n",
    "X_train, X_test, y_train, y_test = train_test_split(X, y, test_size=0.2, random_state=42)\n",
    "\n",
    "# Use SMOTE to oversample the dataset for better training performance\n",
    "smote = SMOTE(random_state=42)\n",
    "X_train_res, y_train_res = smote.fit_resample(X_train, y_train)\n",
    "\n",
    "# Compute the scale_pos_weight value\n",
    "scale_pos_weight = len(y_train[y_train == 0]) / len(y_train[y_train == 1])\n",
    "\n",
    "# Define the model with scale_pos_weight\n",
    "xgb = XGBClassifier(scale_pos_weight=scale_pos_weight)\n",
    "\n",
    "# Fit the model\n",
    "xgb.fit(X_train_res, y_train_res)\n",
    "\n",
    "# Predict\n",
    "y_pred = xgb.predict(X_test)\n",
    "\n",
    "# Print the confusion matrix\n",
    "cm = confusion_matrix(y_test, y_pred)\n",
    "print(\"Confusion Matrix: \\n\", cm)\n",
    "\n",
    "# Print the classification report\n",
    "cr = classification_report(y_test, y_pred)\n",
    "print(\"Classification Report: \\n\", cr)"
   ]
  },
  {
   "cell_type": "code",
   "execution_count": 18,
   "metadata": {
    "ExecuteTime": {
     "end_time": "2023-06-17T11:12:18.831969800Z",
     "start_time": "2023-06-17T11:12:18.606015400Z"
    }
   },
   "outputs": [
    {
     "data": {
      "text/plain": "<Figure size 1000x700 with 2 Axes>",
      "image/png": "[encoded data removed]"
     },
     "metadata": {},
     "output_type": "display_data"
    }
   ],
   "source": [
    "# Get the confusion matrix\n",
    "cm  = confusion_matrix(y_test, y_pred, normalize='true')\n",
    "    \n",
    "# Visualize it\n",
    "plt.figure(figsize=(10,7))\n",
    "sns.heatmap(cm, annot=True, fmt=\".3f\", cmap='Blues') \n",
    "plt.title('Confusion matrix')\n",
    "plt.ylabel('Actual label')\n",
    "plt.xlabel('Predicted label')\n",
    "plt.show()"
   ]
  },
  {
   "cell_type": "code",
   "execution_count": 19,
   "metadata": {
    "ExecuteTime": {
     "end_time": "2023-06-17T11:12:19.067960100Z",
     "start_time": "2023-06-17T11:12:18.832972Z"
    }
   },
   "outputs": [
    {
     "data": {
      "text/plain": "<Figure size 1000x700 with 2 Axes>",
      "image/png": "[encoded data removed]"
     },
     "metadata": {},
     "output_type": "display_data"
    }
   ],
   "source": [
    "from sklearn.metrics import confusion_matrix\n",
    "import matplotlib.pyplot as plt\n",
    "import seaborn as sns\n",
    "\n",
    "# Get the confusion matrix\n",
    "cm  = confusion_matrix(y_test, y_pred)\n",
    "    \n",
    "# Visualize it\n",
    "plt.figure(figsize=(10,7))\n",
    "sns.heatmap(cm, annot=True, fmt=\"d\")\n",
    "plt.title('Confusion matrix')\n",
    "plt.ylabel('Actual label')\n",
    "plt.xlabel('Predicted label')\n",
    "plt.show()"
   ]
  },
  {
   "cell_type": "code",
   "execution_count": 20,
   "metadata": {
    "ExecuteTime": {
     "end_time": "2023-06-17T11:12:25.675290600Z",
     "start_time": "2023-06-17T11:12:19.070958600Z"
    }
   },
   "outputs": [
    {
     "data": {
      "text/plain": "<Figure size 640x480 with 1 Axes>",
      "image/png": "[encoded data removed]"
     },
     "metadata": {},
     "output_type": "display_data"
    }
   ],
   "source": [
    "from collections import defaultdict\n",
    "scores = defaultdict(list)\n",
    "test_vals = np.linspace(0.01, .95, 100)\n",
    "for threshold in test_vals:\n",
    "    y_pred = xgb.predict_proba(X_test)\n",
    "    y_pred = y_pred[:, 1] > threshold\n",
    "\n",
    "    scores['accuracy'].append(accuracy_score(y_test, y_pred))\n",
    "    scores['precision'].append(precision_score(y_test, y_pred, zero_division=0))\n",
    "    scores['recall'].append(recall_score(y_test, y_pred))\n",
    "\n",
    "for measure in scores.keys():\n",
    "    sns.lineplot(y=scores[measure], x=test_vals, label=measure)\n",
    "plt.xlabel('Threshold')\n",
    "plt.ylabel('Score')\n",
    "plt.title('XGBoost')\n",
    "plt.legend();"
   ]
  },
  {
   "cell_type": "code",
   "execution_count": 21,
   "outputs": [
    {
     "data": {
      "text/plain": "<Figure size 640x480 with 1 Axes>",
      "image/png": "[encoded data removed]"
     },
     "metadata": {},
     "output_type": "display_data"
    }
   ],
   "source": [
    "scores = defaultdict(list)\n",
    "test_vals = np.linspace(0.01, .95, 100)\n",
    "for threshold in test_vals:\n",
    "    y_pred = best_model_acc.predict_proba(X_test)\n",
    "    y_pred = y_pred[:, 1] > threshold\n",
    "\n",
    "    scores['accuracy'].append(accuracy_score(y_test, y_pred))\n",
    "    scores['precision'].append(precision_score(y_test, y_pred, zero_division=0))\n",
    "    scores['recall'].append(recall_score(y_test, y_pred))\n",
    "\n",
    "for measure in scores.keys():\n",
    "    sns.lineplot(y=scores[measure], x=test_vals, label=measure)\n",
    "plt.xlabel('Threshold')\n",
    "plt.ylabel('Score')\n",
    "plt.title('GBC')\n",
    "plt.legend();"
   ],
   "metadata": {
    "collapsed": false,
    "ExecuteTime": {
     "end_time": "2023-06-17T11:12:31.138097900Z",
     "start_time": "2023-06-17T11:12:25.674288Z"
    }
   }
  },
  {
   "cell_type": "markdown",
   "source": [
    "The choice of the model and the threshold for diagnosis are the most important aspects of our final decision as a group. These will determine the quality and validity of our predictions.\n",
    "\n",
    "XGBoost seems to manage to maintain a high recall for high threshold levels, but that comes at the cost of a very low precision relative to GradientBoosting. This means that while we would be able to correctly diagnose most of the diabetic cases, we would incorrectly classify more than half of our patients (for a threshold of around 55%, where recall is at 90%).\n",
    "\n",
    "In contrast, our GBC model loses on its recall score very quickly, allowing for a 90% detection rate of diabetes for a threshold of around 8%. For the same level of recall as XGBoost though, this model attains around 53% precision.\n",
    "\n",
    "If we allow ourselves to correctly classify 80% of diabetic cases instead of 90%, XGBoost manages a precision score of around 62%, while GBC attains 70% precision for the same recall score.\n",
    "\n",
    "GBC seems to be a better choice given these findings."
   ],
   "metadata": {
    "collapsed": false
   }
  },
  {
   "cell_type": "code",
   "execution_count": null,
   "outputs": [],
   "source": [],
   "metadata": {
    "collapsed": false
   }
  }
 ],
 "metadata": {
  "kernelspec": {
   "display_name": "machinelearning",
   "language": "python",
   "name": "python3"
  },
  "language_info": {
   "codemirror_mode": {
    "name": "ipython",
    "version": 3
   },
   "file_extension": ".py",
   "mimetype": "text/x-python",
   "name": "python",
   "nbconvert_exporter": "python",
   "pygments_lexer": "ipython3",
   "version": "3.9.16"
  },
  "orig_nbformat": 4
 },
 "nbformat": 4,
 "nbformat_minor": 2
}
